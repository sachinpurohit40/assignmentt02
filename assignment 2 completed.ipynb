{
 "cells": [
  {
   "cell_type": "markdown",
   "id": "7ab525ac",
   "metadata": {},
   "source": [
    "# ASSIGNMENT 2"
   ]
  },
  {
   "cell_type": "markdown",
   "id": "733de149",
   "metadata": {},
   "source": [
    "\n",
    "\n",
    "\n",
    "\n",
    "q1 =   What are the two values of the Boolean data type? How do you write them?\n",
    "\n",
    "ans 1 = Python boolean type is one of the built-in data types provided by               Python, which represents one of the two values i.e. True or False.             Generally, it is used to represent the truth values of the                     expressions. For example, 1==1 is True whereas 2<1 is False. A \n",
    "        variable of the primitive data type boolean can have two\n",
    "        values: true and false.\n",
    "        eg.\n",
    "        a = True      \n",
    "        # output = class 'bool'\n",
    "        type(a)\n",
    "        b = False\n",
    "        type(b) \n",
    "        #output =  class 'bool'\n",
    "        x = 5\n",
    "        y = 10\n",
    "        print(bool(x==y))\n",
    "        #output =  \"False\"\n",
    "        x = 10\n",
    "        y = 10\n",
    "        print(bool(x==y)\n",
    "        #output = True\n",
    "        \n",
    "       \n",
    "q2 =    What are the three different types of Boolean operators?\n",
    "   \n",
    "\n",
    "ans2 =  Boolean operators are words and symbols, such as AND or NOT, that let you expand or narrow your search parameters when                 using a database or search engine. When you search using these operators, it is known as a  Boolean search.\n",
    "\n",
    "          You can use Boolean operators such as AND, OR, and NOT alongsidekeywords to create a Boolean string that will refine               your search to find the most relevant results and sources.\n",
    "          1. NOT AND -The AND boolean operator is similar to the bitwise AND  operator where the operator analyzes the                      expressions written on  both sides and returns the output.\n",
    "          \n",
    "           True and True = True\n",
    "           \n",
    "           True and False = False\n",
    "           \n",
    "           False and True = False\n",
    "           \n",
    "           False and False = False\n",
    "           \n",
    "          2. OR - The OR operator is similar to the OR bitwise operator. In the bitwise OR,   we were focussing on either of the                bit being 1. Here, we take into account if either of the expression is true or not. If atleast one expression is                true, consequently, the result is true.\n",
    "          \n",
    "           True or True = True\n",
    "           \n",
    "           True or False = True\n",
    "           \n",
    "           False or True = True\n",
    "           \n",
    "           False or False = False\n",
    "           \n",
    "           \n",
    "          3. NOT - The NOT operator reverses the result of the boole expression that follows the operator. It is important to               note thatthe NOT operator will only reverse the final result of the  expression that immediately follows. Moreover,              the NOT operator is denoted by the keyword \"not\".\n",
    "          \n",
    "            not(True) = False\n",
    "            \n",
    "            not(False) = True\n",
    "        \n",
    "q3 =       Make a list of each Boolean operator's truth tables (i.e. every possible combination of Booleanvalues for the operator and what it               evaluate ).\n",
    " Ans-      True and True is True.\n",
    " \n",
    "           true and False is False.\n",
    "           \n",
    "          False and True is False.\n",
    "          \n",
    "           False and False is False.\n",
    "           \n",
    "          True or True is True.\n",
    "          \n",
    "          True or False is True.\n",
    "          \n",
    "           False or True is True.\n",
    "           \n",
    "           False or False is False.\n",
    "           \n",
    "           not True is False.\n",
    "           \n",
    "           not False is True.\n",
    "           \n",
    "           true is 1 and false is 0\n",
    "           \n",
    "           Truth Table for AND\n",
    "           A B output\n",
    "           0 0 0\n",
    "           0 1 0\n",
    "           1 0 0\n",
    "           1 1 1\n",
    "        Truth Table for OR\n",
    "         A B output\n",
    "         0 0 0\n",
    "         0 1 1\n",
    "         1 0 1\n",
    "         1 1 1\n",
    "         Truth Table for NOT\n",
    "        A output\n",
    "          0 1\n",
    "          1 0\n",
    "        \n",
    "q4 =    What are the values of the following expressions?\n",
    "\n",
    "ans  =\n",
    "          \n"
   ]
  },
  {
   "cell_type": "code",
   "execution_count": 3,
   "id": "6f9980f9",
   "metadata": {},
   "outputs": [
    {
     "data": {
      "text/plain": [
       "False"
      ]
     },
     "execution_count": 3,
     "metadata": {},
     "output_type": "execute_result"
    }
   ],
   "source": [
    "a = (5 > 4) and (3 == 5)"
   ]
  },
  {
   "cell_type": "code",
   "execution_count": 7,
   "id": "1ea67165",
   "metadata": {},
   "outputs": [
    {
     "data": {
      "text/plain": [
       "False"
      ]
     },
     "execution_count": 7,
     "metadata": {},
     "output_type": "execute_result"
    }
   ],
   "source": [
    " not (5 > 4)"
   ]
  },
  {
   "cell_type": "code",
   "execution_count": 8,
   "id": "1b4c85f0",
   "metadata": {},
   "outputs": [
    {
     "data": {
      "text/plain": [
       "True"
      ]
     },
     "execution_count": 8,
     "metadata": {},
     "output_type": "execute_result"
    }
   ],
   "source": [
    "c = (5 > 4) or (3 == 5)"
   ]
  },
  {
   "cell_type": "code",
   "execution_count": 9,
   "id": "61daa120",
   "metadata": {},
   "outputs": [
    {
     "data": {
      "text/plain": [
       "False"
      ]
     },
     "execution_count": 9,
     "metadata": {},
     "output_type": "execute_result"
    }
   ],
   "source": [
    "d = not ((5 > 4) or (3 == 5))"
   ]
  },
  {
   "cell_type": "code",
   "execution_count": 10,
   "id": "021ee722",
   "metadata": {},
   "outputs": [
    {
     "data": {
      "text/plain": [
       "False"
      ]
     },
     "execution_count": 10,
     "metadata": {},
     "output_type": "execute_result"
    }
   ],
   "source": [
    "e = (True and True) and (True == False)\n"
   ]
  },
  {
   "cell_type": "code",
   "execution_count": 11,
   "id": "67ea3b85",
   "metadata": {},
   "outputs": [
    {
     "data": {
      "text/plain": [
       "True"
      ]
     },
     "execution_count": 11,
     "metadata": {},
     "output_type": "execute_result"
    }
   ],
   "source": [
    "f =  (not False) or (not True)"
   ]
  },
  {
   "cell_type": "code",
   "execution_count": null,
   "id": "d5431e4c",
   "metadata": {},
   "outputs": [],
   "source": [
    "q5 = What are the six comparison operators?\n",
    "\n",
    "ans = In programming, you often want to compare a value with another value. To       do that, you use comparison operators.\n",
    "\n",
    "      Python has six comparison operators, which are as follows:\n",
    "\n",
    "    1) Less than ( < ) = The Less Than operator (<) compares two values and                 returns True if the value on the left is less than the value on the              right. Otherwise, it returns False\n",
    "\n",
    "    2) Less than or equal to (<=) = The less than or equal to operator compares         two values and returns True if the left value is less than or equal            to the right value. Otherwise, it returns False\n",
    "\n",
    "    3) Greater than (>) = The greater than operator (>) compares two values and                     True if the left value is greater than the right value.                          Otherwise, it returns False\n",
    "\n",
    "     4). Greater than or equal to (>=) = The greater than or equal to operator             (>=) compares two values and returns True if the left value                    is greater than or equal to the right value. Otherwise, it                      returns False\n",
    "\n",
    "     5). Equal to ( == ) = The equal to operator (==) compares two values and                 returns True if the left value is equal to the right value.                    Otherwise, it returns False\n",
    "\n",
    "     6). Not equal to ( != ) = The not equal to operator (!=) compares two                                   values and returns True if the left value isn’t                        equal to the right value. Otherwise, it returns False\n",
    "\n"
   ]
  },
  {
   "cell_type": "markdown",
   "id": "debfb7ab",
   "metadata": {},
   "source": [
    "q6 = How do you tell the difference between the equal to and assignment operators?Describe a condition and when you would use one.\n",
    " \n",
    "ans = (=) operator -The “=” is an assignment operator used to assign the value on the right to the variable on the left. \n",
    "\n",
    "     For example:\n",
    "\n",
    "    a = 10;\n",
    "    b = 20;\n",
    "    ch = 'y';\n",
    "    \n",
    "    (==) operator - The ‘==’ operator checks whether the two given operands are equal or not. If so, it returns true. Otherwise it returns false. \n",
    "    for example:\n",
    "    5==5\n",
    "    This will return true.\n",
    "\n",
    "q7 = Identify the three blocks in this code\n",
    "ans  = \n"
   ]
  },
  {
   "cell_type": "code",
   "execution_count": 17,
   "id": "0d367ed8",
   "metadata": {},
   "outputs": [
    {
     "name": "stdout",
     "output_type": "stream",
     "text": [
      "ham\n",
      "spam\n",
      "spam\n"
     ]
    }
   ],
   "source": [
    "spam = 0\n",
    "if spam == 10:\n",
    "    print('eggs')\n",
    "if spam > 5:\n",
    "    print('bacon')\n",
    "else:\n",
    "    print('ham')\n",
    "    print('spam')\n",
    "    print('spam')\n"
   ]
  },
  {
   "cell_type": "markdown",
   "id": "8a704a0d",
   "metadata": {},
   "source": [
    "q8 =  Write code that prints Hello if 1 is stored in spam, prints Howdy if 2 is stored in spam, and prints Greetings! if anything else is stored in spam.\n",
    "\n",
    "ans . = "
   ]
  },
  {
   "cell_type": "code",
   "execution_count": 19,
   "id": "28acb87b",
   "metadata": {},
   "outputs": [
    {
     "name": "stdout",
     "output_type": "stream",
     "text": [
      "Enter a number: 3\n",
      "Greetings!\n"
     ]
    }
   ],
   "source": [
    "stored = int(input(\"Enter a number: \"))\n",
    "if stored == 1:\n",
    "    print(\"Hello\")\n",
    "elif stored == 2:\n",
    "    print(\"Howdy\")\n",
    "else:\n",
    "    print(\"Greetings!\")\n",
    "        \n",
    "        "
   ]
  },
  {
   "cell_type": "markdown",
   "id": "25075297",
   "metadata": {},
   "source": [
    "Q9 = If your programme is stuck in an endless loop, what keys you’ll press?\n",
    "\n",
    "ANS9  = If our programme is stuck in an endless loop,To stop the program, we             will need to interrupt the loop manually by pressing CTRL + C."
   ]
  },
  {
   "cell_type": "markdown",
   "id": "43a4f66a",
   "metadata": {},
   "source": [
    "q10 = How can you tell the difference between break and continue?\n",
    "\n",
    "ans. = In Python, a flow of a regular loop can be changed using the break and          continue statement.Loops repeatedly run through the code block till the         test expression returns true,but there are times when we want to stop           the current iteration or even the entire loop without running the test         expression. in these situations, the break and continue statements in          Python are implemented.\n",
    "    \n",
    "        BREAK =A break statement is used to terminate the loop whenever a              particular condition is satisfied. The statement is there just next             after the loop receives control of the program. The break statement              will end the  innermost loop if it is contained within a nested loop             that is the loop inside the other loop. It is used to end the loop              that it is enclosed in, such as a do-while, while, switch, and for              statement."
   ]
  },
  {
   "cell_type": "code",
   "execution_count": 20,
   "id": "df244807",
   "metadata": {},
   "outputs": [
    {
     "name": "stdout",
     "output_type": "stream",
     "text": [
      "S\n",
      "A\n",
      "C\n",
      "H\n",
      "Over\n"
     ]
    }
   ],
   "source": [
    "for char in \"SACHIN\":\n",
    "    if char == \"I\":\n",
    "        break\n",
    "    print(char)\n",
    "\n",
    "print(\"Over\")"
   ]
  },
  {
   "cell_type": "markdown",
   "id": "61a21e67",
   "metadata": {},
   "source": [
    "CONTINEU = The continue statement skips the remaining lines of code, for the current iteration of the loop. In this case, the loop does not end, it continues with the next iteration.\n",
    "\n"
   ]
  },
  {
   "cell_type": "code",
   "execution_count": 21,
   "id": "202ccc11",
   "metadata": {},
   "outputs": [
    {
     "name": "stdout",
     "output_type": "stream",
     "text": [
      "S\n",
      "A\n",
      "C\n",
      "H\n",
      "N\n",
      "Over\n"
     ]
    }
   ],
   "source": [
    "for char in \"SACHIN\":\n",
    "    if char == \"I\":\n",
    "        continue\n",
    "    print(char)\n",
    "\n",
    "print(\"Over\")"
   ]
  },
  {
   "cell_type": "markdown",
   "id": "25990d06",
   "metadata": {},
   "source": [
    "Q.11 = In a for loop, what is the difference between range(10), range(0, 10),          and range(0, 10, 1)?\n",
    "ANS11 = When the user call range() with one argument, the user will get a               series of numbers that starts at 0 and includes every whole number up            to, but not including, the number that the user has provided as the             stop.\n",
    "\n",
    "\n"
   ]
  },
  {
   "cell_type": "code",
   "execution_count": 23,
   "id": "b0409e22",
   "metadata": {},
   "outputs": [
    {
     "name": "stdout",
     "output_type": "stream",
     "text": [
      "0 1 2 3 4 5 6 7 8 9 \n"
     ]
    }
   ],
   "source": [
    "for i in range(10):\n",
    "    print(i, end=\" \")\n",
    "print()"
   ]
  },
  {
   "cell_type": "markdown",
   "id": "1f015863",
   "metadata": {},
   "source": [
    "When the user call range() with two arguments,\n",
    "the user gets to decide not only where the series of numbers stops but also where it starts, \n",
    "so the user doesn’t have to start at 0 all the time. \n",
    "Users can use range() to generate a series of numbers from 0 to 10 using range(0, 10)."
   ]
  },
  {
   "cell_type": "code",
   "execution_count": 25,
   "id": "b56b4eb4",
   "metadata": {},
   "outputs": [
    {
     "name": "stdout",
     "output_type": "stream",
     "text": [
      "0 1 2 3 4 5 6 7 8 9 \n"
     ]
    }
   ],
   "source": [
    "for i in range(0, 10):\n",
    "    print(i, end=\" \")\n",
    "print()"
   ]
  },
  {
   "cell_type": "markdown",
   "id": "684f3268",
   "metadata": {},
   "source": [
    "When the user call range() with three arguments, the user can choose not only where the series of numbers will start and stop, but also how big the difference will be between one number and the next. If the user doesn’t provide a step, then range() will automatically behave as if the step is 1. In this example, we are printing even numbers between 0 and 10, so we choose our starting point from 0(start = 0) and stop the series at 10(stop = 10). For printing an even number the difference between one number and the next must be 1 (step = 1) after providing a step we get the following output (0, 1, 2, 3, 4, 5, 6, 7, 8, 9, ). "
   ]
  },
  {
   "cell_type": "code",
   "execution_count": 26,
   "id": "925ae8a6",
   "metadata": {},
   "outputs": [
    {
     "name": "stdout",
     "output_type": "stream",
     "text": [
      "0 1 2 3 4 5 6 7 8 9 \n"
     ]
    }
   ],
   "source": [
    "for i in range(0, 10, 1):\n",
    "    print(i, end=\" \")\n",
    "print()"
   ]
  },
  {
   "cell_type": "markdown",
   "id": "547ae3c4",
   "metadata": {},
   "source": [
    "q12 = Write a short program that prints the numbers 1 to 10 using a for loop. Then write an equivalent program that prints the numbers 1 to 10 using a while loop.\n",
    "\n",
    "ans.  FOR LOOP"
   ]
  },
  {
   "cell_type": "code",
   "execution_count": 29,
   "id": "59b327e7",
   "metadata": {},
   "outputs": [
    {
     "name": "stdout",
     "output_type": "stream",
     "text": [
      "1\n",
      "2\n",
      "3\n",
      "4\n",
      "5\n",
      "6\n",
      "7\n",
      "8\n",
      "9\n",
      "10\n"
     ]
    }
   ],
   "source": [
    "for i in range(1,11):\n",
    "    print(i)"
   ]
  },
  {
   "cell_type": "markdown",
   "id": "0c5568ef",
   "metadata": {},
   "source": [
    "while loop"
   ]
  },
  {
   "cell_type": "markdown",
   "id": "d48cc2ae",
   "metadata": {},
   "source": [
    "a = 1\n",
    "while a <= 10:\n",
    "    print(a)\n",
    "    a+=1"
   ]
  },
  {
   "cell_type": "markdown",
   "id": "bc24f1a1",
   "metadata": {},
   "source": [
    " Q13 = If you had a function named bacon() inside a module named spam, how              would you call it after importing spam?\n",
    " ans. 13 =  This function can be called with spam.bacon()."
   ]
  },
  {
   "cell_type": "code",
   "execution_count": null,
   "id": "994fe8b3",
   "metadata": {},
   "outputs": [],
   "source": []
  }
 ],
 "metadata": {
  "kernelspec": {
   "display_name": "Python 3 (ipykernel)",
   "language": "python",
   "name": "python3"
  },
  "language_info": {
   "codemirror_mode": {
    "name": "ipython",
    "version": 3
   },
   "file_extension": ".py",
   "mimetype": "text/x-python",
   "name": "python",
   "nbconvert_exporter": "python",
   "pygments_lexer": "ipython3",
   "version": "3.11.4"
  }
 },
 "nbformat": 4,
 "nbformat_minor": 5
}
